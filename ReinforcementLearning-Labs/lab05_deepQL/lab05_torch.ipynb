{
 "cells": [
  {
   "cell_type": "markdown",
   "metadata": {},
   "source": [
    "# Lab 05: Deep Q-Network in Pytorch"
   ]
  },
  {
   "cell_type": "markdown",
   "metadata": {},
   "source": [
    "Step 01: Define environment"
   ]
  },
  {
   "cell_type": "code",
   "execution_count": 151,
   "metadata": {},
   "outputs": [
    {
     "name": "stdout",
     "output_type": "stream",
     "text": [
      "#states =  (4,)\n",
      "#actions =  2\n"
     ]
    }
   ],
   "source": [
    "# import packages\n",
    "import gym \n",
    "import numpy as np  \n",
    "import pandas as pd \n",
    "import matplotlib.pyplot as plt\n",
    "\n",
    "# prepare environment\n",
    "env = gym.make(\"CartPole-v1\").env\n",
    "env.reset()\n",
    "# number of states\n",
    "state_dim = env.observation_space.shape\n",
    "print(\"#states = \", state_dim)\n",
    "\n",
    "# number of actions\n",
    "n_actions = env.action_space.n \n",
    "print(\"#actions = \", n_actions)\n"
   ]
  },
  {
   "cell_type": "markdown",
   "metadata": {},
   "source": [
    "Step 02: Create Q-network"
   ]
  },
  {
   "cell_type": "code",
   "execution_count": 152,
   "metadata": {},
   "outputs": [],
   "source": [
    "import torch \n",
    "import torch.nn as nn\n",
    "\n",
    "# define class of Q-Network\n",
    "class QNetwork(nn.Module):\n",
    "    def __init__(self, state_dim, n_actions):\n",
    "        super(QNetwork, self).__init__()\n",
    "        self.fc1 = nn.Linear(state_dim[0], 64)\n",
    "        self.fc2 = nn.Linear(64, 256)\n",
    "        self.fc3 = nn.Linear(256, 64)\n",
    "        self.fc4 = nn.Linear(64, n_actions)\n",
    "        self.relu = nn.ReLU()\n",
    "\n",
    "    def forward(self, x):\n",
    "        x = self.relu(self.fc1(x))\n",
    "        x = self.relu(self.fc2(x))\n",
    "        x = self.relu(self.fc3(x))\n",
    "        x = self.fc4(x)        \n",
    "\n",
    "        return x\n",
    "    \n",
    "    def predict(self, state):\n",
    "        # convert state variable to torch tensor\n",
    "        state = torch.tensor(state, dtype = torch.float32)\n",
    "        state = state.unsqueeze(0)  # add batch dimension\n",
    "        # make prediction\n",
    "        with torch.no_grad():\n",
    "            q_values = self.forward(state)\n",
    "\n",
    "        return q_values.numpy().flatten()"
   ]
  },
  {
   "cell_type": "code",
   "execution_count": 153,
   "metadata": {},
   "outputs": [
    {
     "data": {
      "text/plain": [
       "QNetwork(\n",
       "  (fc1): Linear(in_features=4, out_features=64, bias=True)\n",
       "  (fc2): Linear(in_features=64, out_features=256, bias=True)\n",
       "  (fc3): Linear(in_features=256, out_features=64, bias=True)\n",
       "  (fc4): Linear(in_features=64, out_features=2, bias=True)\n",
       "  (relu): ReLU()\n",
       ")"
      ]
     },
     "execution_count": 153,
     "metadata": {},
     "output_type": "execute_result"
    }
   ],
   "source": [
    "# initialize q-network\n",
    "qnet = QNetwork(state_dim, n_actions)\n",
    "qnet"
   ]
  },
  {
   "cell_type": "markdown",
   "metadata": {},
   "source": [
    "Test predictions"
   ]
  },
  {
   "cell_type": "code",
   "execution_count": 154,
   "metadata": {},
   "outputs": [
    {
     "name": "stdout",
     "output_type": "stream",
     "text": [
      "initial state =  [ 0.00567684 -0.0295081  -0.01180258 -0.03759454]\n",
      "Predicted q-values =  [-0.10537921 -0.13273744]\n"
     ]
    }
   ],
   "source": [
    "# take the initial state\n",
    "s = env.reset()\n",
    "print(\"initial state = \", s[0])\n",
    "\n",
    "# test prediction for initial state\n",
    "example_state = s\n",
    "example_pred = qnet.predict(example_state[0])\n",
    "print(\"Predicted q-values = \", example_pred)"
   ]
  },
  {
   "cell_type": "code",
   "execution_count": 155,
   "metadata": {},
   "outputs": [],
   "source": [
    "# function to take action with epsilon-greedy policy\n",
    "\n",
    "def get_action(state, epsilon=0):\n",
    "    # calculate q-value\n",
    "    q_values = qnet.predict(state)\n",
    "\n",
    "    # if random parameter is better, take random action\n",
    "    if np.random.rand() < epsilon:\n",
    "        action = np.random.choice(len(q_values))\n",
    "    # else, take the best action related with the highest Q(s, a)\n",
    "    else:\n",
    "        action = np.argmax(q_values)\n",
    "    \n",
    "    return action"
   ]
  },
  {
   "cell_type": "markdown",
   "metadata": {},
   "source": [
    "Testing current values in environment"
   ]
  },
  {
   "cell_type": "code",
   "execution_count": 156,
   "metadata": {},
   "outputs": [
    {
     "name": "stdout",
     "output_type": "stream",
     "text": [
      "take the action for initial state:  0\n",
      "current state =  [ 0.00567684 -0.0295081  -0.01180258 -0.03759454]\n",
      "action =  0\n",
      "next state =  [ 0.00508668 -0.22445883 -0.01255447  0.2513413 ]\n",
      "reward =  1.0\n",
      "is final state =  False\n"
     ]
    }
   ],
   "source": [
    "# test the function get action\n",
    "a_test = get_action(s[0], epsilon = 0)\n",
    "print(\"take the action for initial state: \", a_test) \n",
    "\n",
    "# current state\n",
    "current_state = s[0]\n",
    "print(\"current state = \", current_state)\n",
    "\n",
    "# action \n",
    "print(\"action = \", a_test)\n",
    "\n",
    "# next state\n",
    "next_state, r, done, _, _ = env.step(a_test)\n",
    "print(\"next state = \", next_state)\n",
    "\n",
    "# reward\n",
    "print(\"reward = \", r)\n",
    "\n",
    "# final state?\n",
    "print(\"is final state = \", done)\n"
   ]
  },
  {
   "cell_type": "code",
   "execution_count": 157,
   "metadata": {},
   "outputs": [],
   "source": [
    "# function to convert environment variables to tensor\n",
    "def convert_env_to_tensor(s, a, r, next_s, done):\n",
    "    s = torch.as_tensor(s, dtype = torch.float32).unsqueeze(0)\n",
    "    a = torch.as_tensor(a, dtype = torch.int64).unsqueeze(0)\n",
    "    r = torch.as_tensor(r, dtype = torch.float32).unsqueeze(0)\n",
    "    next_s = torch.as_tensor(next_s, dtype = torch.float32).unsqueeze(0)\n",
    "    done = torch.as_tensor(done, dtype = torch.bool).unsqueeze(0)\n",
    "\n",
    "    return s, a, r, next_s, done"
   ]
  },
  {
   "cell_type": "code",
   "execution_count": 158,
   "metadata": {},
   "outputs": [],
   "source": [
    "# test conversion of variables to tensor\n",
    "current_state, a_test, r, next_state, done = convert_env_to_tensor(current_state, a_test, r, next_state, done)"
   ]
  },
  {
   "cell_type": "code",
   "execution_count": 159,
   "metadata": {},
   "outputs": [
    {
     "name": "stdout",
     "output_type": "stream",
     "text": [
      "tensor([[ 0.0057, -0.0295, -0.0118, -0.0376]])\n",
      "tensor([[-0.1054, -0.1327]], grad_fn=<AddmmBackward0>)\n",
      "tensor([[ 0.0051, -0.2245, -0.0126,  0.2513]])\n",
      "tensor([[-0.1096, -0.1324]], grad_fn=<AddmmBackward0>)\n"
     ]
    }
   ],
   "source": [
    "# current state and this prediction\n",
    "print(current_state)\n",
    "print(qnet(current_state))\n",
    "\n",
    "# next-state and this prediction\n",
    "print(next_state)\n",
    "print(qnet(next_state))"
   ]
  },
  {
   "cell_type": "code",
   "execution_count": 160,
   "metadata": {},
   "outputs": [],
   "source": [
    "# test\n",
    "assert isinstance(qnet.fc3, torch.nn.Linear)"
   ]
  },
  {
   "cell_type": "code",
   "execution_count": 161,
   "metadata": {},
   "outputs": [
    {
     "name": "stdout",
     "output_type": "stream",
     "text": [
      "epsilon=0.0 tests passed\n",
      "epsilon=0.1 tests passed\n",
      "epsilon=0.5 tests passed\n",
      "epsilon=1.0 tests passed\n"
     ]
    }
   ],
   "source": [
    "# test epsilon-greedy condition\n",
    "s = env.reset()\n",
    "s = s[0]\n",
    "\n",
    "for eps in [0.0, 0.1, 0.5, 1.0]:\n",
    "    state_freq = np.zeros(n_actions, dtype = int)\n",
    "\n",
    "    for i in range(10000):\n",
    "        action = get_action(s, epsilon = eps)\n",
    "        state_freq[action] += 1\n",
    "\n",
    "    best_action = np.argmax(state_freq)\n",
    "    \n",
    "    assert abs(state_freq[best_action] - 10000 * (1 - eps + eps/n_actions)) < 200\n",
    "    for other_action in range(n_actions):\n",
    "        if other_action != best_action:\n",
    "            assert abs(state_freq[other_action] - 10000 * (eps/n_actions)) < 200\n",
    "            \n",
    "    print('epsilon=%.1f tests passed'%eps)"
   ]
  },
  {
   "cell_type": "markdown",
   "metadata": {},
   "source": [
    "Step 03: Integrate Q-Learning with Gradient Descendent"
   ]
  },
  {
   "attachments": {
    "image.png": {
     "image/png": "[encoded data removed]"
    }
   },
   "cell_type": "markdown",
   "metadata": {},
   "source": [
    "Loss Function:  \n",
    "  \n",
    "![image.png](attachment:image.png)\n",
    "  \n",
    "Where:  \n",
    "s: current state  \n",
    "a: action  \n",
    "r: reward  \n",
    "s': next state  \n",
    "gamma: discount factor  \n",
    "Q_theta(s, a): result of Q-value given chosed politic by neural network  \n",
    "Q-: max{a}{Q(s', a')}: is the max Q-value for the next state s_t+1 over all possible actions"
   ]
  },
  {
   "cell_type": "code",
   "execution_count": 162,
   "metadata": {},
   "outputs": [
    {
     "data": {
      "text/plain": [
       "(4,)"
      ]
     },
     "execution_count": 162,
     "metadata": {},
     "output_type": "execute_result"
    }
   ],
   "source": [
    "state_dim"
   ]
  },
  {
   "cell_type": "code",
   "execution_count": 163,
   "metadata": {},
   "outputs": [],
   "source": [
    "# Add batch dimension to testing with random values\n",
    "states_ph = torch.empty((1,) + state_dim, dtype=torch.float32)  \n",
    "actions_ph = torch.empty((1,), dtype=torch.int64) \n",
    "rewards_ph = torch.empty((1,), dtype=torch.float32)\n",
    "next_states_ph = torch.empty((1,) + state_dim, dtype=torch.float32)\n",
    "is_done_ph = torch.empty((1,), dtype=torch.bool)"
   ]
  },
  {
   "cell_type": "code",
   "execution_count": 164,
   "metadata": {},
   "outputs": [
    {
     "name": "stdout",
     "output_type": "stream",
     "text": [
      "tensor([-0.1032], grad_fn=<SumBackward1>)\n"
     ]
    }
   ],
   "source": [
    "# setting q-values for all actions in the current state\n",
    "# calculate Q_theta(s, a) from Q-network\n",
    "pred_qvalues = qnet(states_ph)\n",
    "\n",
    "# clip actions_ph to stay between [0, n_actions -1]\n",
    "actions_ph = torch.clamp(actions_ph, 0, n_actions-1)\n",
    "\n",
    "# one-hot encode for actions_ph tensor\n",
    "actions_oh = torch.nn.functional.one_hot(actions_ph, n_actions).to(torch.float32)\n",
    "\n",
    "# calculate predicted q-values for actions\n",
    "pred_qvalues_x_actions = torch.sum(pred_qvalues * actions_oh, dim = 1)\n",
    "print(pred_qvalues_x_actions)"
   ]
  },
  {
   "cell_type": "code",
   "execution_count": 165,
   "metadata": {},
   "outputs": [
    {
     "name": "stdout",
     "output_type": "stream",
     "text": [
      "initial states =  tensor([[-0.1059, -0.1320, -0.0018,  0.0150]])\n",
      "predicted q-value =  tensor([[-0.1032, -0.1323]], grad_fn=<AddmmBackward0>)\n",
      "next states =  tensor([[-0.0050, -0.0410, -0.0018,  0.0150]])\n",
      "predicted q-value =  tensor([[-0.1059, -0.1320]], grad_fn=<AddmmBackward0>)\n",
      "actions =  tensor([0])\n"
     ]
    }
   ],
   "source": [
    "print(\"initial states = \", states_ph)\n",
    "print(\"predicted q-value = \", qnet(states_ph))\n",
    "print(\"next states = \", next_states_ph)\n",
    "print(\"predicted q-value = \", qnet(next_states_ph))\n",
    "print(\"actions = \", actions_ph)"
   ]
  },
  {
   "cell_type": "code",
   "execution_count": 166,
   "metadata": {},
   "outputs": [
    {
     "name": "stdout",
     "output_type": "stream",
     "text": [
      "tensor([-0.2107], grad_fn=<AddBackward0>)\n"
     ]
    }
   ],
   "source": [
    "gamma = 0.99\n",
    "\n",
    "# apply NN to obtain Q-values for next states\n",
    "pred_next_qvalues = qnet(next_states_ph)\n",
    "\n",
    "# calculate V*(next_states) using the predicted next Q-values \n",
    "# V*(s') = max{a}Q*(s, a)\n",
    "next_state_values, _ = torch.max(pred_next_qvalues, dim = 1)\n",
    "\n",
    "# calculate formula of loss function\n",
    "# loss = 1/N * sum{( Q(si, ai) - [ri + gamma * max{a'}Q(s_i+1, a')] )**2}\n",
    "# where target_q-value = ri + gamma * max{a'}Q(s_i+1, a')\n",
    "target_qvalues_x_actions = rewards_ph + gamma * next_state_values\n",
    "print(target_qvalues_x_actions)\n",
    "\n",
    "# in the last state use the formula Q(s, a) = r(s, a), \n",
    "# given the fact that don't exist next state\n",
    "target_qvalues_x_actions = torch.where(is_done_ph, rewards_ph, target_qvalues_x_actions)\n"
   ]
  },
  {
   "cell_type": "code",
   "execution_count": 167,
   "metadata": {},
   "outputs": [],
   "source": [
    "# define MSE-loss function\n",
    "loss = (pred_qvalues_x_actions - target_qvalues_x_actions.detach())**2\n",
    "loss = torch.mean(loss)"
   ]
  },
  {
   "cell_type": "code",
   "execution_count": 168,
   "metadata": {},
   "outputs": [
    {
     "name": "stdout",
     "output_type": "stream",
     "text": [
      "tensor(0.0116, grad_fn=<MeanBackward0>)\n"
     ]
    }
   ],
   "source": [
    "# check the loss\n",
    "print(loss)"
   ]
  },
  {
   "cell_type": "markdown",
   "metadata": {},
   "source": [
    "Step 04: Playing with Q-Network"
   ]
  },
  {
   "cell_type": "code",
   "execution_count": 169,
   "metadata": {},
   "outputs": [],
   "source": [
    "# define optimizer algorithm\n",
    "import torch.optim as optim \n",
    "\n",
    "optimizer = optim.Adam(qnet.parameters(), lr = 1e-4)"
   ]
  },
  {
   "cell_type": "code",
   "execution_count": 170,
   "metadata": {},
   "outputs": [],
   "source": [
    "def calculate_reward(env, t_max = 1000, epsilon = 0, train = False):\n",
    "\n",
    "    # define the total reward\n",
    "    total_reward = 0\n",
    "\n",
    "    # take the initial state\n",
    "    s = env.reset()    \n",
    "    s  = s[0]\n",
    "\n",
    "    for t in range(t_max):\n",
    "\n",
    "        # take the action\n",
    "        a = get_action(s, epsilon)\n",
    "        \n",
    "        # check the next step\n",
    "        next_s, r, done, _, _ = env.step(a)\n",
    "\n",
    "        if train:            \n",
    "            # convert all env-variables to torch tensor\n",
    "            s, a, r, next_s, done = convert_env_to_tensor(s, a, r, next_s, done)\n",
    "\n",
    "            # calculate Q_theta\n",
    "            pred_qvalues = qnet(s)                    \n",
    "            actions_ph = torch.clamp(a, 0, n_actions-1)\n",
    "            actions_oh = torch.nn.functional.one_hot(actions_ph, n_actions).to(torch.float32)                \n",
    "            pred_qvalues_x_actions = torch.sum(pred_qvalues * actions_oh, dim = 1)\n",
    "            \n",
    "            # calculate Q-target\n",
    "            pred_next_qvalues = qnet(next_s)            \n",
    "            next_state_values, _ = torch.max(pred_next_qvalues, dim = 1)\n",
    "            target_qvalues_x_actions = r + gamma * next_state_values\n",
    "            target_qvalues_x_actions = torch.where(done, r, target_qvalues_x_actions)\n",
    "            loss = torch.mean((pred_qvalues_x_actions - target_qvalues_x_actions.detach())**2)            \n",
    "            loss.backward()\n",
    "            optimizer.step()\n",
    "\n",
    "        # accumulate the reward\n",
    "        total_reward += r\n",
    "\n",
    "        # advance to next state\n",
    "        s = next_s\n",
    "\n",
    "        if done:\n",
    "            break\n",
    "    \n",
    "    return total_reward\n"
   ]
  },
  {
   "cell_type": "code",
   "execution_count": 171,
   "metadata": {},
   "outputs": [
    {
     "name": "stderr",
     "output_type": "stream",
     "text": [
      "C:\\Users\\HP\\AppData\\Local\\Temp\\ipykernel_13668\\635027586.py:24: UserWarning: To copy construct from a tensor, it is recommended to use sourceTensor.clone().detach() or sourceTensor.clone().detach().requires_grad_(True), rather than torch.tensor(sourceTensor).\n",
      "  state = torch.tensor(state, dtype = torch.float32)\n"
     ]
    },
    {
     "name": "stdout",
     "output_type": "stream",
     "text": [
      "epoch #0\tmean reward = 9.000\tepsilon = 0.500\n",
      "epoch #1\tmean reward = 14.000\tepsilon = 0.495\n",
      "epoch #2\tmean reward = 12.000\tepsilon = 0.490\n",
      "epoch #3\tmean reward = 9.000\tepsilon = 0.485\n",
      "epoch #4\tmean reward = 10.000\tepsilon = 0.480\n",
      "epoch #5\tmean reward = 10.000\tepsilon = 0.475\n",
      "epoch #6\tmean reward = 10.000\tepsilon = 0.471\n",
      "epoch #7\tmean reward = 11.000\tepsilon = 0.466\n",
      "epoch #8\tmean reward = 12.000\tepsilon = 0.461\n",
      "epoch #9\tmean reward = 14.000\tepsilon = 0.457\n",
      "epoch #10\tmean reward = 13.000\tepsilon = 0.452\n",
      "epoch #11\tmean reward = 12.000\tepsilon = 0.448\n",
      "epoch #12\tmean reward = 17.000\tepsilon = 0.443\n",
      "epoch #13\tmean reward = 10.000\tepsilon = 0.439\n",
      "epoch #14\tmean reward = 13.000\tepsilon = 0.434\n",
      "epoch #15\tmean reward = 9.000\tepsilon = 0.430\n",
      "epoch #16\tmean reward = 19.000\tepsilon = 0.426\n",
      "epoch #17\tmean reward = 10.000\tepsilon = 0.421\n",
      "epoch #18\tmean reward = 10.000\tepsilon = 0.417\n",
      "epoch #19\tmean reward = 11.000\tepsilon = 0.413\n",
      "epoch #20\tmean reward = 11.000\tepsilon = 0.409\n",
      "epoch #21\tmean reward = 12.000\tepsilon = 0.405\n",
      "epoch #22\tmean reward = 15.000\tepsilon = 0.401\n",
      "epoch #23\tmean reward = 11.000\tepsilon = 0.397\n",
      "epoch #24\tmean reward = 11.000\tepsilon = 0.393\n",
      "epoch #25\tmean reward = 12.000\tepsilon = 0.389\n",
      "epoch #26\tmean reward = 12.000\tepsilon = 0.385\n",
      "epoch #27\tmean reward = 12.000\tepsilon = 0.381\n",
      "epoch #28\tmean reward = 13.000\tepsilon = 0.377\n",
      "epoch #29\tmean reward = 10.000\tepsilon = 0.374\n",
      "epoch #30\tmean reward = 15.000\tepsilon = 0.370\n",
      "epoch #31\tmean reward = 10.000\tepsilon = 0.366\n",
      "epoch #32\tmean reward = 9.000\tepsilon = 0.362\n",
      "epoch #33\tmean reward = 17.000\tepsilon = 0.359\n",
      "epoch #34\tmean reward = 18.000\tepsilon = 0.355\n",
      "epoch #35\tmean reward = 23.000\tepsilon = 0.352\n",
      "epoch #36\tmean reward = 10.000\tepsilon = 0.348\n",
      "epoch #37\tmean reward = 10.000\tepsilon = 0.345\n",
      "epoch #38\tmean reward = 10.000\tepsilon = 0.341\n",
      "epoch #39\tmean reward = 9.000\tepsilon = 0.338\n",
      "epoch #40\tmean reward = 12.000\tepsilon = 0.334\n",
      "epoch #41\tmean reward = 12.000\tepsilon = 0.331\n",
      "epoch #42\tmean reward = 11.000\tepsilon = 0.328\n",
      "epoch #43\tmean reward = 8.000\tepsilon = 0.325\n",
      "epoch #44\tmean reward = 9.000\tepsilon = 0.321\n",
      "epoch #45\tmean reward = 14.000\tepsilon = 0.318\n",
      "epoch #46\tmean reward = 15.000\tepsilon = 0.315\n",
      "epoch #47\tmean reward = 26.000\tepsilon = 0.312\n",
      "epoch #48\tmean reward = 14.000\tepsilon = 0.309\n",
      "epoch #49\tmean reward = 13.000\tepsilon = 0.306\n",
      "epoch #50\tmean reward = 9.000\tepsilon = 0.303\n",
      "epoch #51\tmean reward = 10.000\tepsilon = 0.299\n",
      "epoch #52\tmean reward = 14.000\tepsilon = 0.296\n",
      "epoch #53\tmean reward = 11.000\tepsilon = 0.294\n",
      "epoch #54\tmean reward = 10.000\tepsilon = 0.291\n",
      "epoch #55\tmean reward = 12.000\tepsilon = 0.288\n",
      "epoch #56\tmean reward = 10.000\tepsilon = 0.285\n",
      "epoch #57\tmean reward = 10.000\tepsilon = 0.282\n",
      "epoch #58\tmean reward = 10.000\tepsilon = 0.279\n",
      "epoch #59\tmean reward = 11.000\tepsilon = 0.276\n",
      "epoch #60\tmean reward = 13.000\tepsilon = 0.274\n",
      "epoch #61\tmean reward = 11.000\tepsilon = 0.271\n",
      "epoch #62\tmean reward = 16.000\tepsilon = 0.268\n",
      "epoch #63\tmean reward = 11.000\tepsilon = 0.265\n",
      "epoch #64\tmean reward = 9.000\tepsilon = 0.263\n",
      "epoch #65\tmean reward = 10.000\tepsilon = 0.260\n",
      "epoch #66\tmean reward = 14.000\tepsilon = 0.258\n",
      "epoch #67\tmean reward = 10.000\tepsilon = 0.255\n",
      "epoch #68\tmean reward = 9.000\tepsilon = 0.252\n",
      "epoch #69\tmean reward = 11.000\tepsilon = 0.250\n",
      "epoch #70\tmean reward = 16.000\tepsilon = 0.247\n",
      "epoch #71\tmean reward = 13.000\tepsilon = 0.245\n",
      "epoch #72\tmean reward = 22.000\tepsilon = 0.242\n",
      "epoch #73\tmean reward = 17.000\tepsilon = 0.240\n",
      "epoch #74\tmean reward = 58.000\tepsilon = 0.238\n",
      "epoch #75\tmean reward = 14.000\tepsilon = 0.235\n",
      "epoch #76\tmean reward = 14.000\tepsilon = 0.233\n",
      "epoch #77\tmean reward = 9.000\tepsilon = 0.231\n",
      "epoch #78\tmean reward = 11.000\tepsilon = 0.228\n",
      "epoch #79\tmean reward = 8.000\tepsilon = 0.226\n",
      "epoch #80\tmean reward = 10.000\tepsilon = 0.224\n",
      "epoch #81\tmean reward = 10.000\tepsilon = 0.222\n",
      "epoch #82\tmean reward = 10.000\tepsilon = 0.219\n",
      "epoch #83\tmean reward = 10.000\tepsilon = 0.217\n",
      "epoch #84\tmean reward = 13.000\tepsilon = 0.215\n",
      "epoch #85\tmean reward = 10.000\tepsilon = 0.213\n",
      "epoch #86\tmean reward = 12.000\tepsilon = 0.211\n",
      "epoch #87\tmean reward = 12.000\tepsilon = 0.209\n",
      "epoch #88\tmean reward = 9.000\tepsilon = 0.206\n",
      "epoch #89\tmean reward = 10.000\tepsilon = 0.204\n",
      "epoch #90\tmean reward = 11.000\tepsilon = 0.202\n",
      "epoch #91\tmean reward = 10.000\tepsilon = 0.200\n",
      "epoch #92\tmean reward = 10.000\tepsilon = 0.198\n",
      "epoch #93\tmean reward = 13.000\tepsilon = 0.196\n",
      "epoch #94\tmean reward = 13.000\tepsilon = 0.194\n",
      "epoch #95\tmean reward = 11.000\tepsilon = 0.192\n",
      "epoch #96\tmean reward = 10.000\tepsilon = 0.191\n",
      "epoch #97\tmean reward = 10.000\tepsilon = 0.189\n",
      "epoch #98\tmean reward = 11.000\tepsilon = 0.187\n",
      "epoch #99\tmean reward = 9.000\tepsilon = 0.185\n",
      "epoch #100\tmean reward = 10.000\tepsilon = 0.183\n",
      "epoch #101\tmean reward = 11.000\tepsilon = 0.181\n",
      "epoch #102\tmean reward = 16.000\tepsilon = 0.179\n",
      "epoch #103\tmean reward = 12.000\tepsilon = 0.178\n",
      "epoch #104\tmean reward = 9.000\tepsilon = 0.176\n",
      "epoch #105\tmean reward = 14.000\tepsilon = 0.174\n",
      "epoch #106\tmean reward = 12.000\tepsilon = 0.172\n",
      "epoch #107\tmean reward = 11.000\tepsilon = 0.171\n",
      "epoch #108\tmean reward = 11.000\tepsilon = 0.169\n",
      "epoch #109\tmean reward = 8.000\tepsilon = 0.167\n",
      "epoch #110\tmean reward = 11.000\tepsilon = 0.166\n",
      "epoch #111\tmean reward = 10.000\tepsilon = 0.164\n",
      "epoch #112\tmean reward = 10.000\tepsilon = 0.162\n",
      "epoch #113\tmean reward = 10.000\tepsilon = 0.161\n",
      "epoch #114\tmean reward = 13.000\tepsilon = 0.159\n",
      "epoch #115\tmean reward = 10.000\tepsilon = 0.157\n",
      "epoch #116\tmean reward = 16.000\tepsilon = 0.156\n",
      "epoch #117\tmean reward = 11.000\tepsilon = 0.154\n",
      "epoch #118\tmean reward = 10.000\tepsilon = 0.153\n",
      "epoch #119\tmean reward = 10.000\tepsilon = 0.151\n",
      "epoch #120\tmean reward = 10.000\tepsilon = 0.150\n",
      "epoch #121\tmean reward = 12.000\tepsilon = 0.148\n",
      "epoch #122\tmean reward = 12.000\tepsilon = 0.147\n",
      "epoch #123\tmean reward = 8.000\tepsilon = 0.145\n",
      "epoch #124\tmean reward = 11.000\tepsilon = 0.144\n",
      "epoch #125\tmean reward = 10.000\tepsilon = 0.142\n",
      "epoch #126\tmean reward = 14.000\tepsilon = 0.141\n",
      "epoch #127\tmean reward = 10.000\tepsilon = 0.140\n",
      "epoch #128\tmean reward = 8.000\tepsilon = 0.138\n",
      "epoch #129\tmean reward = 12.000\tepsilon = 0.137\n",
      "epoch #130\tmean reward = 10.000\tepsilon = 0.135\n",
      "epoch #131\tmean reward = 11.000\tepsilon = 0.134\n",
      "epoch #132\tmean reward = 10.000\tepsilon = 0.133\n",
      "epoch #133\tmean reward = 9.000\tepsilon = 0.131\n",
      "epoch #134\tmean reward = 14.000\tepsilon = 0.130\n",
      "epoch #135\tmean reward = 14.000\tepsilon = 0.129\n",
      "epoch #136\tmean reward = 19.000\tepsilon = 0.127\n",
      "epoch #137\tmean reward = 33.000\tepsilon = 0.126\n",
      "epoch #138\tmean reward = 13.000\tepsilon = 0.125\n",
      "epoch #139\tmean reward = 9.000\tepsilon = 0.124\n",
      "epoch #140\tmean reward = 9.000\tepsilon = 0.122\n",
      "epoch #141\tmean reward = 10.000\tepsilon = 0.121\n",
      "epoch #142\tmean reward = 9.000\tepsilon = 0.120\n",
      "epoch #143\tmean reward = 11.000\tepsilon = 0.119\n",
      "epoch #144\tmean reward = 8.000\tepsilon = 0.118\n",
      "epoch #145\tmean reward = 10.000\tepsilon = 0.116\n",
      "epoch #146\tmean reward = 10.000\tepsilon = 0.115\n",
      "epoch #147\tmean reward = 10.000\tepsilon = 0.114\n",
      "epoch #148\tmean reward = 10.000\tepsilon = 0.113\n",
      "epoch #149\tmean reward = 9.000\tepsilon = 0.112\n",
      "epoch #150\tmean reward = 10.000\tepsilon = 0.111\n",
      "epoch #151\tmean reward = 10.000\tepsilon = 0.110\n",
      "epoch #152\tmean reward = 10.000\tepsilon = 0.109\n",
      "epoch #153\tmean reward = 9.000\tepsilon = 0.107\n",
      "epoch #154\tmean reward = 10.000\tepsilon = 0.106\n",
      "epoch #155\tmean reward = 11.000\tepsilon = 0.105\n",
      "epoch #156\tmean reward = 9.000\tepsilon = 0.104\n",
      "epoch #157\tmean reward = 9.000\tepsilon = 0.103\n",
      "epoch #158\tmean reward = 9.000\tepsilon = 0.102\n",
      "epoch #159\tmean reward = 9.000\tepsilon = 0.101\n",
      "epoch #160\tmean reward = 9.000\tepsilon = 0.100\n",
      "epoch #161\tmean reward = 8.000\tepsilon = 0.099\n",
      "epoch #162\tmean reward = 11.000\tepsilon = 0.098\n",
      "epoch #163\tmean reward = 11.000\tepsilon = 0.097\n",
      "epoch #164\tmean reward = 9.000\tepsilon = 0.096\n",
      "epoch #165\tmean reward = 10.000\tepsilon = 0.095\n",
      "epoch #166\tmean reward = 9.000\tepsilon = 0.094\n",
      "epoch #167\tmean reward = 11.000\tepsilon = 0.093\n",
      "epoch #168\tmean reward = 10.000\tepsilon = 0.092\n",
      "epoch #169\tmean reward = 10.000\tepsilon = 0.091\n",
      "epoch #170\tmean reward = 11.000\tepsilon = 0.091\n",
      "epoch #171\tmean reward = 9.000\tepsilon = 0.090\n",
      "epoch #172\tmean reward = 12.000\tepsilon = 0.089\n",
      "epoch #173\tmean reward = 15.000\tepsilon = 0.088\n",
      "epoch #174\tmean reward = 14.000\tepsilon = 0.087\n",
      "epoch #175\tmean reward = 16.000\tepsilon = 0.086\n",
      "epoch #176\tmean reward = 14.000\tepsilon = 0.085\n",
      "epoch #177\tmean reward = 18.000\tepsilon = 0.084\n",
      "epoch #178\tmean reward = 31.000\tepsilon = 0.084\n",
      "epoch #179\tmean reward = 10.000\tepsilon = 0.083\n",
      "epoch #180\tmean reward = 10.000\tepsilon = 0.082\n",
      "epoch #181\tmean reward = 9.000\tepsilon = 0.081\n",
      "epoch #182\tmean reward = 8.000\tepsilon = 0.080\n",
      "epoch #183\tmean reward = 10.000\tepsilon = 0.079\n",
      "epoch #184\tmean reward = 10.000\tepsilon = 0.079\n",
      "epoch #185\tmean reward = 8.000\tepsilon = 0.078\n",
      "epoch #186\tmean reward = 10.000\tepsilon = 0.077\n",
      "epoch #187\tmean reward = 10.000\tepsilon = 0.076\n",
      "epoch #188\tmean reward = 10.000\tepsilon = 0.076\n",
      "epoch #189\tmean reward = 9.000\tepsilon = 0.075\n",
      "epoch #190\tmean reward = 10.000\tepsilon = 0.074\n",
      "epoch #191\tmean reward = 10.000\tepsilon = 0.073\n",
      "epoch #192\tmean reward = 11.000\tepsilon = 0.073\n",
      "epoch #193\tmean reward = 11.000\tepsilon = 0.072\n",
      "epoch #194\tmean reward = 10.000\tepsilon = 0.071\n",
      "epoch #195\tmean reward = 11.000\tepsilon = 0.070\n",
      "epoch #196\tmean reward = 10.000\tepsilon = 0.070\n",
      "epoch #197\tmean reward = 10.000\tepsilon = 0.069\n",
      "epoch #198\tmean reward = 11.000\tepsilon = 0.068\n",
      "epoch #199\tmean reward = 10.000\tepsilon = 0.068\n",
      "epoch #200\tmean reward = 8.000\tepsilon = 0.067\n",
      "epoch #201\tmean reward = 10.000\tepsilon = 0.066\n",
      "epoch #202\tmean reward = 12.000\tepsilon = 0.066\n",
      "epoch #203\tmean reward = 10.000\tepsilon = 0.065\n",
      "epoch #204\tmean reward = 8.000\tepsilon = 0.064\n",
      "epoch #205\tmean reward = 8.000\tepsilon = 0.064\n",
      "epoch #206\tmean reward = 10.000\tepsilon = 0.063\n",
      "epoch #207\tmean reward = 9.000\tepsilon = 0.062\n",
      "epoch #208\tmean reward = 10.000\tepsilon = 0.062\n",
      "epoch #209\tmean reward = 10.000\tepsilon = 0.061\n",
      "epoch #210\tmean reward = 9.000\tepsilon = 0.061\n",
      "epoch #211\tmean reward = 10.000\tepsilon = 0.060\n",
      "epoch #212\tmean reward = 11.000\tepsilon = 0.059\n",
      "epoch #213\tmean reward = 11.000\tepsilon = 0.059\n",
      "epoch #214\tmean reward = 11.000\tepsilon = 0.058\n",
      "epoch #215\tmean reward = 14.000\tepsilon = 0.058\n",
      "epoch #216\tmean reward = 11.000\tepsilon = 0.057\n",
      "epoch #217\tmean reward = 10.000\tepsilon = 0.056\n",
      "epoch #218\tmean reward = 10.000\tepsilon = 0.056\n",
      "epoch #219\tmean reward = 9.000\tepsilon = 0.055\n",
      "epoch #220\tmean reward = 10.000\tepsilon = 0.055\n",
      "epoch #221\tmean reward = 9.000\tepsilon = 0.054\n",
      "epoch #222\tmean reward = 10.000\tepsilon = 0.054\n",
      "epoch #223\tmean reward = 11.000\tepsilon = 0.053\n",
      "epoch #224\tmean reward = 9.000\tepsilon = 0.053\n",
      "epoch #225\tmean reward = 9.000\tepsilon = 0.052\n",
      "epoch #226\tmean reward = 10.000\tepsilon = 0.052\n",
      "epoch #227\tmean reward = 9.000\tepsilon = 0.051\n",
      "epoch #228\tmean reward = 10.000\tepsilon = 0.051\n",
      "epoch #229\tmean reward = 9.000\tepsilon = 0.050\n",
      "epoch #230\tmean reward = 10.000\tepsilon = 0.050\n",
      "epoch #231\tmean reward = 10.000\tepsilon = 0.049\n",
      "epoch #232\tmean reward = 12.000\tepsilon = 0.049\n",
      "epoch #233\tmean reward = 8.000\tepsilon = 0.048\n",
      "epoch #234\tmean reward = 9.000\tepsilon = 0.048\n",
      "epoch #235\tmean reward = 10.000\tepsilon = 0.047\n",
      "epoch #236\tmean reward = 10.000\tepsilon = 0.047\n",
      "epoch #237\tmean reward = 10.000\tepsilon = 0.046\n",
      "epoch #238\tmean reward = 9.000\tepsilon = 0.046\n",
      "epoch #239\tmean reward = 9.000\tepsilon = 0.045\n",
      "epoch #240\tmean reward = 11.000\tepsilon = 0.045\n",
      "epoch #241\tmean reward = 9.000\tepsilon = 0.044\n",
      "epoch #242\tmean reward = 8.000\tepsilon = 0.044\n",
      "epoch #243\tmean reward = 10.000\tepsilon = 0.043\n",
      "epoch #244\tmean reward = 10.000\tepsilon = 0.043\n",
      "epoch #245\tmean reward = 10.000\tepsilon = 0.043\n",
      "epoch #246\tmean reward = 10.000\tepsilon = 0.042\n",
      "epoch #247\tmean reward = 9.000\tepsilon = 0.042\n",
      "epoch #248\tmean reward = 10.000\tepsilon = 0.041\n",
      "epoch #249\tmean reward = 8.000\tepsilon = 0.041\n",
      "epoch #250\tmean reward = 9.000\tepsilon = 0.041\n",
      "epoch #251\tmean reward = 10.000\tepsilon = 0.040\n",
      "epoch #252\tmean reward = 9.000\tepsilon = 0.040\n",
      "epoch #253\tmean reward = 10.000\tepsilon = 0.039\n",
      "epoch #254\tmean reward = 10.000\tepsilon = 0.039\n",
      "epoch #255\tmean reward = 9.000\tepsilon = 0.039\n",
      "epoch #256\tmean reward = 10.000\tepsilon = 0.038\n",
      "epoch #257\tmean reward = 13.000\tepsilon = 0.038\n",
      "epoch #258\tmean reward = 10.000\tepsilon = 0.037\n",
      "epoch #259\tmean reward = 10.000\tepsilon = 0.037\n",
      "epoch #260\tmean reward = 9.000\tepsilon = 0.037\n",
      "epoch #261\tmean reward = 11.000\tepsilon = 0.036\n",
      "epoch #262\tmean reward = 12.000\tepsilon = 0.036\n",
      "epoch #263\tmean reward = 9.000\tepsilon = 0.036\n",
      "epoch #264\tmean reward = 9.000\tepsilon = 0.035\n",
      "epoch #265\tmean reward = 9.000\tepsilon = 0.035\n",
      "epoch #266\tmean reward = 9.000\tepsilon = 0.035\n",
      "epoch #267\tmean reward = 9.000\tepsilon = 0.034\n",
      "epoch #268\tmean reward = 9.000\tepsilon = 0.034\n",
      "epoch #269\tmean reward = 8.000\tepsilon = 0.033\n",
      "epoch #270\tmean reward = 10.000\tepsilon = 0.033\n",
      "epoch #271\tmean reward = 10.000\tepsilon = 0.033\n",
      "epoch #272\tmean reward = 9.000\tepsilon = 0.032\n",
      "epoch #273\tmean reward = 10.000\tepsilon = 0.032\n",
      "epoch #274\tmean reward = 9.000\tepsilon = 0.032\n",
      "epoch #275\tmean reward = 9.000\tepsilon = 0.032\n",
      "epoch #276\tmean reward = 10.000\tepsilon = 0.031\n",
      "epoch #277\tmean reward = 8.000\tepsilon = 0.031\n",
      "epoch #278\tmean reward = 9.000\tepsilon = 0.031\n",
      "epoch #279\tmean reward = 8.000\tepsilon = 0.030\n",
      "epoch #280\tmean reward = 9.000\tepsilon = 0.030\n",
      "epoch #281\tmean reward = 10.000\tepsilon = 0.030\n",
      "epoch #282\tmean reward = 9.000\tepsilon = 0.029\n",
      "epoch #283\tmean reward = 10.000\tepsilon = 0.029\n",
      "epoch #284\tmean reward = 9.000\tepsilon = 0.029\n",
      "epoch #285\tmean reward = 10.000\tepsilon = 0.029\n",
      "epoch #286\tmean reward = 10.000\tepsilon = 0.028\n",
      "epoch #287\tmean reward = 12.000\tepsilon = 0.028\n",
      "epoch #288\tmean reward = 10.000\tepsilon = 0.028\n",
      "epoch #289\tmean reward = 10.000\tepsilon = 0.027\n",
      "epoch #290\tmean reward = 10.000\tepsilon = 0.027\n",
      "epoch #291\tmean reward = 10.000\tepsilon = 0.027\n",
      "epoch #292\tmean reward = 11.000\tepsilon = 0.027\n",
      "epoch #293\tmean reward = 9.000\tepsilon = 0.026\n",
      "epoch #294\tmean reward = 11.000\tepsilon = 0.026\n",
      "epoch #295\tmean reward = 10.000\tepsilon = 0.026\n",
      "epoch #296\tmean reward = 9.000\tepsilon = 0.026\n",
      "epoch #297\tmean reward = 11.000\tepsilon = 0.025\n",
      "epoch #298\tmean reward = 10.000\tepsilon = 0.025\n",
      "epoch #299\tmean reward = 12.000\tepsilon = 0.025\n",
      "epoch #300\tmean reward = 10.000\tepsilon = 0.025\n",
      "epoch #301\tmean reward = 11.000\tepsilon = 0.024\n",
      "epoch #302\tmean reward = 9.000\tepsilon = 0.024\n",
      "epoch #303\tmean reward = 9.000\tepsilon = 0.024\n",
      "epoch #304\tmean reward = 9.000\tepsilon = 0.024\n",
      "epoch #305\tmean reward = 12.000\tepsilon = 0.023\n",
      "epoch #306\tmean reward = 11.000\tepsilon = 0.023\n",
      "epoch #307\tmean reward = 12.000\tepsilon = 0.023\n",
      "epoch #308\tmean reward = 11.000\tepsilon = 0.023\n",
      "epoch #309\tmean reward = 14.000\tepsilon = 0.022\n",
      "epoch #310\tmean reward = 17.000\tepsilon = 0.022\n",
      "epoch #311\tmean reward = 12.000\tepsilon = 0.022\n",
      "epoch #312\tmean reward = 15.000\tepsilon = 0.022\n",
      "epoch #313\tmean reward = 12.000\tepsilon = 0.022\n",
      "epoch #314\tmean reward = 22.000\tepsilon = 0.021\n",
      "epoch #315\tmean reward = 22.000\tepsilon = 0.021\n",
      "epoch #316\tmean reward = 45.000\tepsilon = 0.021\n",
      "epoch #317\tmean reward = 26.000\tepsilon = 0.021\n",
      "epoch #318\tmean reward = 10.000\tepsilon = 0.020\n",
      "epoch #319\tmean reward = 10.000\tepsilon = 0.020\n",
      "epoch #320\tmean reward = 9.000\tepsilon = 0.020\n",
      "epoch #321\tmean reward = 10.000\tepsilon = 0.020\n",
      "epoch #322\tmean reward = 8.000\tepsilon = 0.020\n",
      "epoch #323\tmean reward = 9.000\tepsilon = 0.019\n",
      "epoch #324\tmean reward = 9.000\tepsilon = 0.019\n",
      "epoch #325\tmean reward = 10.000\tepsilon = 0.019\n",
      "epoch #326\tmean reward = 10.000\tepsilon = 0.019\n",
      "epoch #327\tmean reward = 9.000\tepsilon = 0.019\n",
      "epoch #328\tmean reward = 8.000\tepsilon = 0.019\n",
      "epoch #329\tmean reward = 9.000\tepsilon = 0.018\n",
      "epoch #330\tmean reward = 8.000\tepsilon = 0.018\n",
      "epoch #331\tmean reward = 9.000\tepsilon = 0.018\n",
      "epoch #332\tmean reward = 9.000\tepsilon = 0.018\n",
      "epoch #333\tmean reward = 8.000\tepsilon = 0.018\n",
      "epoch #334\tmean reward = 8.000\tepsilon = 0.017\n",
      "epoch #335\tmean reward = 10.000\tepsilon = 0.017\n",
      "epoch #336\tmean reward = 10.000\tepsilon = 0.017\n",
      "epoch #337\tmean reward = 10.000\tepsilon = 0.017\n",
      "epoch #338\tmean reward = 10.000\tepsilon = 0.017\n",
      "epoch #339\tmean reward = 12.000\tepsilon = 0.017\n",
      "epoch #340\tmean reward = 8.000\tepsilon = 0.016\n",
      "epoch #341\tmean reward = 9.000\tepsilon = 0.016\n",
      "epoch #342\tmean reward = 10.000\tepsilon = 0.016\n",
      "epoch #343\tmean reward = 10.000\tepsilon = 0.016\n",
      "epoch #344\tmean reward = 8.000\tepsilon = 0.016\n",
      "epoch #345\tmean reward = 12.000\tepsilon = 0.016\n",
      "epoch #346\tmean reward = 9.000\tepsilon = 0.015\n",
      "epoch #347\tmean reward = 9.000\tepsilon = 0.015\n",
      "epoch #348\tmean reward = 10.000\tepsilon = 0.015\n",
      "epoch #349\tmean reward = 10.000\tepsilon = 0.015\n",
      "epoch #350\tmean reward = 9.000\tepsilon = 0.015\n",
      "epoch #351\tmean reward = 10.000\tepsilon = 0.015\n",
      "epoch #352\tmean reward = 8.000\tepsilon = 0.015\n",
      "epoch #353\tmean reward = 8.000\tepsilon = 0.014\n",
      "epoch #354\tmean reward = 10.000\tepsilon = 0.014\n",
      "epoch #355\tmean reward = 10.000\tepsilon = 0.014\n",
      "epoch #356\tmean reward = 9.000\tepsilon = 0.014\n",
      "epoch #357\tmean reward = 9.000\tepsilon = 0.014\n",
      "epoch #358\tmean reward = 10.000\tepsilon = 0.014\n",
      "epoch #359\tmean reward = 9.000\tepsilon = 0.014\n",
      "epoch #360\tmean reward = 9.000\tepsilon = 0.013\n",
      "epoch #361\tmean reward = 9.000\tepsilon = 0.013\n",
      "epoch #362\tmean reward = 9.000\tepsilon = 0.013\n",
      "epoch #363\tmean reward = 9.000\tepsilon = 0.013\n",
      "epoch #364\tmean reward = 11.000\tepsilon = 0.013\n",
      "epoch #365\tmean reward = 10.000\tepsilon = 0.013\n",
      "epoch #366\tmean reward = 9.000\tepsilon = 0.013\n",
      "epoch #367\tmean reward = 10.000\tepsilon = 0.013\n",
      "epoch #368\tmean reward = 10.000\tepsilon = 0.012\n",
      "epoch #369\tmean reward = 10.000\tepsilon = 0.012\n",
      "epoch #370\tmean reward = 11.000\tepsilon = 0.012\n",
      "epoch #371\tmean reward = 10.000\tepsilon = 0.012\n",
      "epoch #372\tmean reward = 11.000\tepsilon = 0.012\n",
      "epoch #373\tmean reward = 11.000\tepsilon = 0.012\n",
      "epoch #374\tmean reward = 13.000\tepsilon = 0.012\n",
      "epoch #375\tmean reward = 11.000\tepsilon = 0.012\n",
      "epoch #376\tmean reward = 15.000\tepsilon = 0.011\n",
      "epoch #377\tmean reward = 12.000\tepsilon = 0.011\n",
      "epoch #378\tmean reward = 14.000\tepsilon = 0.011\n",
      "epoch #379\tmean reward = 15.000\tepsilon = 0.011\n",
      "epoch #380\tmean reward = 15.000\tepsilon = 0.011\n",
      "epoch #381\tmean reward = 16.000\tepsilon = 0.011\n",
      "epoch #382\tmean reward = 31.000\tepsilon = 0.011\n",
      "epoch #383\tmean reward = 39.000\tepsilon = 0.011\n",
      "epoch #384\tmean reward = 102.000\tepsilon = 0.011\n",
      "epoch #385\tmean reward = 88.000\tepsilon = 0.010\n",
      "epoch #386\tmean reward = 54.000\tepsilon = 0.010\n",
      "epoch #387\tmean reward = 53.000\tepsilon = 0.010\n",
      "epoch #388\tmean reward = 46.000\tepsilon = 0.010\n",
      "epoch #389\tmean reward = 52.000\tepsilon = 0.010\n",
      "epoch #390\tmean reward = 383.000\tepsilon = 0.010\n",
      "You Win!\n"
     ]
    }
   ],
   "source": [
    "epsilon = 0.5\n",
    "\n",
    "for i in range(1000):    \n",
    "    tot_rewards = [calculate_reward(env, t_max = 1000, epsilon = epsilon, train = True)]\n",
    "    print(\"epoch #{}\\tmean reward = {:.3f}\\tepsilon = {:.3f}\".format(i, np.mean(tot_rewards), epsilon))\n",
    "    epsilon *= 0.99\n",
    "    assert epsilon >= 1e-4\n",
    "\n",
    "    if np.mean(tot_rewards) > 300:\n",
    "        print(\"You Win!\")\n",
    "        break    "
   ]
  },
  {
   "cell_type": "code",
   "execution_count": null,
   "metadata": {},
   "outputs": [],
   "source": []
  }
 ],
 "metadata": {
  "kernelspec": {
   "display_name": "rl_env",
   "language": "python",
   "name": "python3"
  },
  "language_info": {
   "codemirror_mode": {
    "name": "ipython",
    "version": 3
   },
   "file_extension": ".py",
   "mimetype": "text/x-python",
   "name": "python",
   "nbconvert_exporter": "python",
   "pygments_lexer": "ipython3",
   "version": "3.11.4"
  }
 },
 "nbformat": 4,
 "nbformat_minor": 2
}
